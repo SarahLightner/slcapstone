{
 "cells": [
  {
   "cell_type": "code",
   "execution_count": 12,
   "id": "ff441a74",
   "metadata": {},
   "outputs": [],
   "source": [
    "import pandas as pd\n",
    "import requests\n",
    "from bs4 import BeautifulSoup as BS"
   ]
  },
  {
   "cell_type": "code",
   "execution_count": 13,
   "id": "2a47bb74",
   "metadata": {},
   "outputs": [],
   "source": [
    "rawplant = pd.read_csv('../data/plantInfo-raw (1).csv')"
   ]
  },
  {
   "cell_type": "code",
   "execution_count": 14,
   "id": "45ba9225",
   "metadata": {},
   "outputs": [],
   "source": [
    "people = pd.read_csv('../data/Philpott_etal_GLMMGardenerPlant_dryad.csv')"
   ]
  },
  {
   "cell_type": "code",
   "execution_count": 15,
   "id": "f328d027",
   "metadata": {},
   "outputs": [],
   "source": [
    "URL = 'https://gardeningmentor.com/how-much-do-vegetable-seeds-cost/'\n",
    "response = requests.get(URL)"
   ]
  },
  {
   "cell_type": "code",
   "execution_count": 16,
   "id": "6d18cd84",
   "metadata": {},
   "outputs": [
    {
     "data": {
      "text/plain": [
       "200"
      ]
     },
     "execution_count": 16,
     "metadata": {},
     "output_type": "execute_result"
    }
   ],
   "source": [
    "response.status_code"
   ]
  },
  {
   "cell_type": "code",
   "execution_count": 17,
   "id": "45fa94d4",
   "metadata": {},
   "outputs": [],
   "source": [
    "soup = BS(response.text)"
   ]
  },
  {
   "cell_type": "code",
   "execution_count": 18,
   "id": "a435e698",
   "metadata": {},
   "outputs": [
    {
     "data": {
      "text/plain": [
       "[<table><tbody><tr><td><strong>Plant</strong></td><td><strong>Price per 50 seeds</strong></td></tr><tr><td>Arugula</td><td>$0.69</td></tr><tr><td><a href=\"https://gardeningmentor.com/can-you-grow-asparagus-in-a-pot/\">Asparagus</a></td><td>$4.38</td></tr><tr><td><a href=\"https://gardeningmentor.com/how-to-grow-black-beans-in-a-container/\">Beans</a></td><td>$3.75</td></tr><tr><td><a href=\"https://gardeningmentor.com/growing-beets/\">Beets</a></td><td>$0.55</td></tr><tr><td><a href=\"https://gardeningmentor.com/how-to-grow-bok-choy-in-a-pot/\" title=\"How To Grow Bok Choy In A Pot\">Bok Choy</a></td><td>$0.69</td></tr><tr><td>Broccoli</td><td>$0.46</td></tr><tr><td><a href=\"https://gardeningmentor.com/how-to-grow-brussel-sprouts-in-pots/\">Brussels Sprouts</a></td><td>$2.75</td></tr><tr><td><a href=\"https://gardeningmentor.com/can-you-grow-cabbage-in-a-pot/\">Cabbage</a></td><td>$0.42</td></tr><tr><td><a href=\"https://gardeningmentor.com/how-to-grow-carrots/\">Carrots</a></td><td>$0.19</td></tr><tr><td><a href=\"https://gardeningmentor.com/can-you-grow-cauliflower-in-a-pot/\">Cauliflower</a></td><td>$0.75</td></tr><tr><td>Celery</td><td>$0.75</td></tr><tr><td>Chard</td><td>$1.50</td></tr><tr><td>Chicory</td><td>$0.99</td></tr><tr><td>Collards</td><td>$0.55</td></tr><tr><td><a href=\"https://gardeningmentor.com/growing-corn/\">Corn</a></td><td>$2.67</td></tr><tr><td><a href=\"https://gardeningmentor.com/can-you-grow-cucumbers-in-a-5-gallon-bucket/\">Cucumbers</a></td><td>$5.50</td></tr><tr><td>Eggplant</td><td>$6.00</td></tr><tr><td>Endive</td><td>$0.42</td></tr><tr><td><a href=\"https://gardeningmentor.com/how-to-grow-garlic/\">Garlic</a></td><td>$3.00</td></tr><tr><td>Horseradish</td><td>$3.00</td></tr><tr><td>Jicama</td><td>$4.00</td></tr><tr><td><a href=\"https://gardeningmentor.com/can-you-grow-kale-in-a-pot/\">Kale</a></td><td>$0.50</td></tr><tr><td><a href=\"https://gardeningmentor.com/how-to-grow-kohlrabi-in-pots/\">Kohlrabi</a></td><td>$0.34</td></tr><tr><td>Leeks</td><td>$0.50</td></tr><tr><td><a href=\"https://gardeningmentor.com/growing-lettuce/\">Lettuce</a></td><td>$0.50</td></tr><tr><td><a href=\"https://gardeningmentor.com/how-to-grow-mustard-greens-in-a-pot/\" title=\"How To Grow Mustard Greens In A Pot\">Mustard Greens</a></td><td>$1.50</td></tr><tr><td><a href=\"https://gardeningmentor.com/can-okra-be-grown-in-pots/\">Okra</a></td><td>$4.58</td></tr><tr><td><a href=\"https://gardeningmentor.com/can-you-grow-onions-in-a-5-gallon-bucket/\">Onions</a></td><td>$0.50</td></tr><tr><td>Orach</td><td>$3.75</td></tr><tr><td><a href=\"https://gardeningmentor.com/how-to-grow-peas/\">Peas</a></td><td>$2.00</td></tr><tr><td><a href=\"https://gardeningmentor.com/growing-hot-peppers/\">Peppers</a></td><td>$6.00</td></tr><tr><td><a href=\"https://gardeningmentor.com/how-to-grow-potatoes/\">Potatoes</a></td><td>$2.50</td></tr><tr><td><a href=\"https://gardeningmentor.com/can-you-grow-pumpkins-in-a-pot/\">Pumpkins</a></td><td>$15.00</td></tr><tr><td><a href=\"https://gardeningmentor.com/how-to-grow-radishes-in-a-pot/\">Radishes</a></td><td>$0.69</td></tr><tr><td>Rhubarb</td><td>$2.50</td></tr><tr><td>Rutabaga</td><td>$0.38</td></tr><tr><td>Scallions</td><td>$1.25</td></tr><tr><td>Sorrel</td><td>$0.63</td></tr><tr><td><a href=\"https://gardeningmentor.com/how-to-grow-spinach-in-a-pot/\">Spinach</a></td><td>$0.55</td></tr><tr><td>Squash</td><td>$6.88</td></tr><tr><td><a href=\"https://gardeningmentor.com/how-to-grow-sweet-potatoes-in-a-pot/\" title=\"How To Grow Sweet Potatoes In A Pot\">Sweet Potatoes</a></td><td>$3.00</td></tr><tr><td><a href=\"https://gardeningmentor.com/how-to-grow-swiss-chard-in-a-pot/\" title=\"How To Grow Swiss Chard In A Pot\">Swiss Chard</a></td><td>$1.50</td></tr><tr><td><a href=\"https://gardeningmentor.com/grow-tomatoes/\">Tomatoes</a></td><td>$6.00</td></tr><tr><td><a href=\"https://gardeningmentor.com/how-to-grow-turnips-in-containers/\">Turnips</a></td><td>$0.50</td></tr><tr><td><a href=\"https://gardeningmentor.com/can-you-grow-zucchini-in-a-5-gallon-bucket/\">Zucchini</a></td><td>$6.88</td></tr><tr><td><a href=\"https://gardeningmentor.com/how-to-grow-cilantro-in-a-pot/\">Cilantro</a></td><td>$1.25</td></tr><tr><td><a href=\"https://gardeningmentor.com/how-to-grow-basil-in-a-pot/\">Basil</a></td><td>$1.38</td></tr><tr><td><a href=\"https://gardeningmentor.com/how-to-grow-lavender/\">Lavender</a></td><td>$1.38</td></tr><tr><td>Rosemary</td><td>$5.00</td></tr><tr><td>Thyme</td><td>$0.47</td></tr><tr><td>Sage</td><td>$1.67</td></tr><tr><td><a href=\"https://gardeningmentor.com/how-to-grow-mint-in-a-pot/\">Mint</a></td><td>$0.75</td></tr><tr><td>Parsley</td><td>$0.31</td></tr><tr><td>Dill</td><td>$0.42</td></tr><tr><td>Fennel</td><td>$0.63</td></tr><tr><td>Chamomile</td><td>$0.46</td></tr><tr><td>Tarragon</td><td>$0.65</td></tr><tr><td>Chives</td><td>$0.42</td></tr><tr><td>Lemongrass</td><td>$3.33</td></tr><tr><td>Oregano</td><td>$0.34</td></tr><tr><td>Marjoram</td><td>$0.10</td></tr><tr><td>Melons</td><td>$10.00</td></tr><tr><td><a href=\"https://gardeningmentor.com/growing-strawberries/\">Strawberries</a></td><td>$0.83</td></tr><tr><td><a href=\"https://gardeningmentor.com/growing-blueberries/\">Blueberries</a></td><td>$8.32</td></tr><tr><td>Pineapple</td><td>$2.50</td></tr><tr><td><a href=\"https://gardeningmentor.com/can-you-grow-cantaloupe-in-a-5-gallon-bucket/\">Cantaloupe</a></td><td>$24.95</td></tr><tr><td><a href=\"https://gardeningmentor.com/can-you-grow-sugar-baby-watermelons-in-a-pot/\">Watermelon</a></td><td>$4.99</td></tr><tr><td>Currants</td><td>$2.00</td></tr><tr><td>Gooseberries</td><td>$9.98</td></tr></tbody></table>]"
      ]
     },
     "execution_count": 18,
     "metadata": {},
     "output_type": "execute_result"
    }
   ],
   "source": [
    "soup.findAll('table')"
   ]
  },
  {
   "cell_type": "code",
   "execution_count": null,
   "id": "f46068c9",
   "metadata": {},
   "outputs": [],
   "source": []
  }
 ],
 "metadata": {
  "kernelspec": {
   "display_name": "Python 3 (ipykernel)",
   "language": "python",
   "name": "python3"
  },
  "language_info": {
   "codemirror_mode": {
    "name": "ipython",
    "version": 3
   },
   "file_extension": ".py",
   "mimetype": "text/x-python",
   "name": "python",
   "nbconvert_exporter": "python",
   "pygments_lexer": "ipython3",
   "version": "3.11.5"
  }
 },
 "nbformat": 4,
 "nbformat_minor": 5
}
