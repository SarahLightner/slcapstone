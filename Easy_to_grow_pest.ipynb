{
 "cells": [
  {
   "cell_type": "code",
   "execution_count": null,
   "id": "397e5663",
   "metadata": {},
   "outputs": [],
   "source": [
    "import pandas as pd\n",
    "import requests\n",
    "from bs4 import BeautifulSoup as BS\n",
    "import matplotlib.pyplot as plt\n",
    "import numpy as np\n",
    "import re"
   ]
  },
  {
   "cell_type": "code",
   "execution_count": null,
   "id": "9acf45e6",
   "metadata": {},
   "outputs": [],
   "source": [
    "rawplant = pd.read_csv('../slcapstone/data/plantInfo-raw .csv')"
   ]
  },
  {
   "cell_type": "code",
   "execution_count": null,
   "id": "865376f5",
   "metadata": {},
   "outputs": [],
   "source": [
    "rawplant['Name'] = rawplant['Name'].str.split(',', expand = True)[0]\n",
    "rawplant['Name'] = rawplant['Name'].str.split('-', expand = True)[0]"
   ]
  },
  {
   "cell_type": "code",
   "execution_count": null,
   "id": "c6e09422",
   "metadata": {},
   "outputs": [],
   "source": [
    "rawplant = rawplant.drop(columns =['culinaryHints','culinaryPreservation', 'url'])"
   ]
  },
  {
   "cell_type": "code",
   "execution_count": null,
   "id": "e0fc0c87",
   "metadata": {},
   "outputs": [],
   "source": [
    "rawplant['growthType'] = rawplant['sowInstructions'].apply(lambda x: 'Easy to grow' if 'Easy to grow' in x else 'Normal/Hard')"
   ]
  },
  {
   "cell_type": "code",
   "execution_count": null,
   "id": "5259fa3d",
   "metadata": {},
   "outputs": [],
   "source": [
    "import re\n",
    "\n",
    "\n",
    "def extract_format(text):\n",
    "    match = re.search(r'(\\d+\\s*(?:-\\s*\\d+)?\\s*(weeks|months|years)?)', text)\n",
    "    if match:\n",
    "        return match.group(0)\n",
    "    else:\n",
    "        return None\n",
    "\n",
    "\n",
    "rawplant['harvestInstructions'] = rawplant['harvestInstructions'].apply(extract_format)"
   ]
  },
  {
   "cell_type": "code",
   "execution_count": null,
   "id": "bde9665a",
   "metadata": {},
   "outputs": [],
   "source": [
    "compatible_plants_split = rawplant['compatiblePlants'].str.split(': ', expand=True)\n",
    "compatcolumn = len(compatible_plants_split.columns)\n",
    "\n",
    "\n",
    "compatible_plants_split.columns = [f'compatiblePlant_{i}' for i in range(compatcolumn)]\n",
    "rawplant = rawplant.drop(columns=['compatiblePlants'])\n",
    "\n",
    "rawplant = pd.concat([rawplant, compatible_plants_split], axis=1)\n",
    "rawplant"
   ]
  },
  {
   "cell_type": "code",
   "execution_count": null,
   "id": "4576261d",
   "metadata": {},
   "outputs": [],
   "source": [
    "rawplant.columns"
   ]
  },
  {
   "cell_type": "code",
   "execution_count": null,
   "id": "783ea23f",
   "metadata": {
    "scrolled": true
   },
   "outputs": [],
   "source": [
    "rawplant.drop(columns = ['compatiblePlant_0'])"
   ]
  },
  {
   "cell_type": "code",
   "execution_count": null,
   "id": "81a8b713",
   "metadata": {},
   "outputs": [],
   "source": [
    "rawplant = rawplant.rename(columns = {'Name':'plants'})\n",
    "rawplant"
   ]
  },
  {
   "cell_type": "code",
   "execution_count": null,
   "id": "dd43bc39",
   "metadata": {},
   "outputs": [],
   "source": [
    "rawplant['spaceInstructions'] = rawplant['spaceInstructions'].str.split(':').str[-1].str.strip()\n",
    "rawplant"
   ]
  },
  {
   "cell_type": "code",
   "execution_count": null,
   "id": "4bfa75f8",
   "metadata": {},
   "outputs": [],
   "source": [
    "rawplant[~rawplant['spaceInstructions'].str.contains('inches', na=False)]"
   ]
  },
  {
   "cell_type": "code",
   "execution_count": null,
   "id": "84e7aa1c",
   "metadata": {},
   "outputs": [],
   "source": [
    "rawplant['spaceInstructions'] = rawplant['spaceInstructions'].replace({\n",
    "    'Rows 1 Metre apart': '39',\n",
    "    '5 - 8 cm apart': '3',\n",
    "    '20 - 30 cm apart': '11',\n",
    "    '15 cm apart': '6',\n",
    "    '12 - 20 cm apart': '8',\n",
    "    'close together': '2',\n",
    "    '140 cm apart': '55',\n",
    "    'Thin to 18 inches': '18',\n",
    "    'Thin to 12 inches': '12'\n",
    "})"
   ]
  },
  {
   "cell_type": "code",
   "execution_count": null,
   "id": "7fac135d",
   "metadata": {},
   "outputs": [],
   "source": [
    "rawplant['spaceInstructions'] = rawplant['spaceInstructions'].str.replace(' inches apart', '')\n",
    "rawplant"
   ]
  },
  {
   "cell_type": "code",
   "execution_count": null,
   "id": "164be99d",
   "metadata": {},
   "outputs": [],
   "source": [
    "def extract_last_number(instruction):\n",
    "    match = re.search(r'(\\d+)\\s*-\\s*(\\d+)$', instruction)\n",
    "    if match:\n",
    "        return match.group(2) \n",
    "    else:\n",
    "        return instruction\n",
    "\n",
    "rawplant['spaceInstructions'] = rawplant['spaceInstructions'].apply(extract_last_number)\n",
    "rawplant"
   ]
  },
  {
   "cell_type": "code",
   "execution_count": null,
   "id": "73c6cc36",
   "metadata": {},
   "outputs": [],
   "source": [
    "rawplant[~rawplant['harvestInstructions'].str.contains('weeks', na=False)]"
   ]
  },
  {
   "cell_type": "code",
   "execution_count": null,
   "id": "a8fd18a9",
   "metadata": {},
   "outputs": [],
   "source": [
    "rawplant['harvestInstructions'] = rawplant['harvestInstructions'].replace({\n",
    "    '30-45': '45',\n",
    "    '18 months': '78',\n",
    "    '2-3 years': '104',\n",
    "    '35-50': '50',\n",
    "    '30-40': '40',\n",
    "    '1 year': '52',\n",
    "    '1 year': '52',\n",
    "    '21-35': '35',\n",
    "    '1 year': '52',\n",
    "    '18 months': '78',\n",
    "    '1 years': '52'\n",
    "})"
   ]
  },
  {
   "cell_type": "code",
   "execution_count": null,
   "id": "3e83432c",
   "metadata": {},
   "outputs": [],
   "source": [
    "rawplant['harvestInstructions'] = rawplant['harvestInstructions'].str.replace('weeks', '')"
   ]
  },
  {
   "cell_type": "code",
   "execution_count": null,
   "id": "cc7b2525",
   "metadata": {},
   "outputs": [],
   "source": [
    "def extract_last_number(instruction):\n",
    "    match = re.search(r'(\\d+)\\s*-\\s*(\\d+)$', instruction)\n",
    "    if match:\n",
    "        return match.group(2) \n",
    "    else:\n",
    "        return instruction\n",
    "\n",
    "rawplant['harvestInstructions'] = rawplant['harvestInstructions'].apply(extract_last_number)\n",
    "rawplant"
   ]
  },
  {
   "cell_type": "code",
   "execution_count": null,
   "id": "acc3d8e4",
   "metadata": {},
   "outputs": [],
   "source": [
    "rawplantbetter = rawplant\n",
    "rawplantbetter"
   ]
  },
  {
   "cell_type": "code",
   "execution_count": null,
   "id": "7a0ec5cc",
   "metadata": {},
   "outputs": [],
   "source": [
    "rawplantbetter.to_csv('rawplantbetter.csv', index = False)"
   ]
  },
  {
   "cell_type": "code",
   "execution_count": null,
   "id": "e77f51d8",
   "metadata": {},
   "outputs": [],
   "source": [
    "rawplant['harvest_time'] = rawplant['harvestInstructions'].str.extract(r'(\\d+)').astype(float)"
   ]
  },
  {
   "cell_type": "code",
   "execution_count": null,
   "id": "6e391f86",
   "metadata": {},
   "outputs": [],
   "source": [
    "rawplant.to_csv('rawplant.csv', index = False)"
   ]
  },
  {
   "cell_type": "code",
   "execution_count": null,
   "id": "b804a7d1",
   "metadata": {},
   "outputs": [],
   "source": [
    "rawplant.to_csv('rawimage.csv', index = False)"
   ]
  },
  {
   "cell_type": "code",
   "execution_count": null,
   "id": "e0873cb0",
   "metadata": {},
   "outputs": [],
   "source": [
    "rawplant.to_csv('rawimage2.csv', index = False)"
   ]
  },
  {
   "cell_type": "code",
   "execution_count": null,
   "id": "59eabc64",
   "metadata": {},
   "outputs": [],
   "source": [
    "pests = pd.read_csv('../slcapstone/data/pests.csv')\n",
    "pests.to_csv('pests.csv', index = False)"
   ]
  },
  {
   "cell_type": "code",
   "execution_count": null,
   "id": "6274eed3",
   "metadata": {},
   "outputs": [],
   "source": [
    "rawpest = pd.merge(rawplant, pests, on='plants')\n",
    "rawpest"
   ]
  },
  {
   "cell_type": "code",
   "execution_count": null,
   "id": "d2eb3cff",
   "metadata": {},
   "outputs": [],
   "source": [
    "rawpest.to_csv('rawpest.csv', index = False)"
   ]
  }
 ],
 "metadata": {
  "kernelspec": {
   "display_name": "Python 3 (ipykernel)",
   "language": "python",
   "name": "python3"
  },
  "language_info": {
   "codemirror_mode": {
    "name": "ipython",
    "version": 3
   },
   "file_extension": ".py",
   "mimetype": "text/x-python",
   "name": "python",
   "nbconvert_exporter": "python",
   "pygments_lexer": "ipython3",
   "version": "3.11.5"
  }
 },
 "nbformat": 4,
 "nbformat_minor": 5
}
